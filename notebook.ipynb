{
 "cells": [
  {
   "cell_type": "code",
   "execution_count": 104,
   "id": "843e7f1f",
   "metadata": {},
   "outputs": [],
   "source": [
    "def install_selenium_requirements():\n",
    "    print('installing')\n",
    "    %pip install selenium\n",
    "    %mkdir -p tmp\n",
    "    !wget -O tmp/chromedriver.zip https://chromedriver.storage.googleapis.com/111.0.5563.64/chromedriver_linux64.zip\n",
    "    !unzip -o tmp/chromedriver.zip -d tmp -p chromedriver\n",
    "    %rm tmp/chromedriver.zip\n",
    "    return"
   ]
  },
  {
   "cell_type": "code",
   "execution_count": 105,
   "id": "908e3f63",
   "metadata": {},
   "outputs": [],
   "source": [
    "download_selenium = False\n",
    "\n",
    "if download_selenium:\n",
    "    install_selenium_requirements() "
   ]
  },
  {
   "cell_type": "code",
   "execution_count": 106,
   "id": "5b28676e",
   "metadata": {},
   "outputs": [],
   "source": [
    "from dotenv import dotenv_values\n",
    "config = dotenv_values(\".env\")"
   ]
  },
  {
   "cell_type": "code",
   "execution_count": 107,
   "id": "3a6bb56d",
   "metadata": {},
   "outputs": [],
   "source": [
    "from selenium import webdriver\n",
    "from selenium.webdriver.chrome.service import Service\n",
    "\n",
    "service = Service(\"tmp/chromedriver\")\n",
    "driver = webdriver.Chrome(service=service)\n",
    "driver.implicitly_wait(10) # seconds\n",
    "driver.get(str(config['URL']))"
   ]
  },
  {
   "cell_type": "code",
   "execution_count": 108,
   "id": "9972c563",
   "metadata": {},
   "outputs": [],
   "source": [
    "from selenium.webdriver.common.by import By\n",
    "from selenium.webdriver.common.keys import Keys\n",
    "\n",
    "assert \"Amil\" in driver.title"
   ]
  },
  {
   "cell_type": "code",
   "execution_count": 109,
   "id": "d2f10f04",
   "metadata": {},
   "outputs": [],
   "source": [
    "driver.find_element(By.ID, \"onetrust-accept-btn-handler\").click()"
   ]
  },
  {
   "cell_type": "code",
   "execution_count": 110,
   "id": "ba7ef7d3",
   "metadata": {},
   "outputs": [],
   "source": [
    "username = driver.find_element(By.ID, \"username\")\n",
    "username.clear()\n",
    "username.send_keys(config['USR'])\n",
    "\n",
    "password = driver.find_element(By.ID, \"password\")\n",
    "password.clear()\n",
    "password.send_keys(config['PWD'])\n",
    "\n",
    "driver.find_element(By.CLASS_NAME, \"test_button_login\").send_keys(Keys.RETURN)"
   ]
  },
  {
   "cell_type": "code",
   "execution_count": 111,
   "id": "5956f11b",
   "metadata": {},
   "outputs": [],
   "source": [
    "def goto_income_tax(driver: webdriver.Chrome, url: str|None):\n",
    "    driver.get(f\"{url}imposto-de-renda\")\n",
    "\n",
    "goto_income_tax(driver, config['URL'])"
   ]
  },
  {
   "cell_type": "code",
   "execution_count": 112,
   "id": "2ea43800",
   "metadata": {},
   "outputs": [],
   "source": [
    "driver.close()"
   ]
  }
 ],
 "metadata": {
  "kernelspec": {
   "display_name": ".venv",
   "language": "python",
   "name": "python3"
  },
  "language_info": {
   "codemirror_mode": {
    "name": "ipython",
    "version": 3
   },
   "file_extension": ".py",
   "mimetype": "text/x-python",
   "name": "python",
   "nbconvert_exporter": "python",
   "pygments_lexer": "ipython3",
   "version": "3.11.1"
  }
 },
 "nbformat": 4,
 "nbformat_minor": 5
}
